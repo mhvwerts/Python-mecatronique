{
 "cells": [
  {
   "cell_type": "markdown",
   "id": "2b7cc144-ec00-41ca-ac76-1a70ec888a84",
   "metadata": {},
   "source": [
    "# MCM2009: Analytical solution Eqn. 6 and temperature profile Eqn. 5"
   ]
  },
  {
   "cell_type": "code",
   "execution_count": null,
   "id": "c1e8b164-95f4-4719-97bd-439e05ae5d19",
   "metadata": {},
   "outputs": [],
   "source": [
    "import numpy as np\n",
    "from numpy import sqrt, pi, exp\n",
    "from scipy.special import erf, erfc"
   ]
  },
  {
   "cell_type": "code",
   "execution_count": null,
   "id": "b0d0a6e2-4990-4c6f-b2c3-51712c7e5d16",
   "metadata": {},
   "outputs": [],
   "source": [
    "import matplotlib.pyplot as plt"
   ]
  },
  {
   "cell_type": "markdown",
   "id": "45eb1bd0-e91b-41e7-b81d-aa330b43a28d",
   "metadata": {},
   "source": [
    "From the article by Muhieddine, Canot, March (MCM2009), we have the following (Equations 5 and 6 in that paper)."
   ]
  },
  {
   "cell_type": "markdown",
   "id": "eea1c275-5159-4c96-a307-5506698e6825",
   "metadata": {},
   "source": [
    "$$x^{*} = \\frac{x}{2\\sqrt{\\mu_l t}},\n",
    "\\mu = \\frac{k}{\\rho C}$$\n",
    "\n",
    "## Eqn. 5:\n",
    "\n",
    "$$T_l = T_w + (T_f - T_w) \\frac{\\textrm{erf}(x^{*})}{\\textrm{erf}(x^{*}_{sl})}, 0 < x^{*} < x^{*}_{sl}$$\n",
    "\n",
    "$$T_s = T_0 + (T_f - T_0)\n",
    "\\frac{\\textrm{erfc}(\\sqrt{\\mu_l / \\mu_s} x^{*})}\n",
    "{\\textrm{erfc}(\\sqrt{\\mu_l / \\mu_s} x^{*}_{sl})}, x^{*}_{sl} < x^{*} < \\infty\n",
    "$$\n",
    "\n",
    "\n",
    "$x^{*}_{sl}$ can be found using \n",
    "\n",
    "## Eqn. 6:\n",
    "\n",
    "$$\\frac{T_f - T_0}{T_f - T_w}\n",
    "\\frac{k_s}{k_l}\n",
    "\\sqrt{\\frac{\\mu_l}{\\mu_s}}\n",
    "\\frac{\\exp(-(\\mu_l/\\mu_s)(x^{*}_{sl})^2)}\n",
    "{\\textrm{erfc}(\\sqrt{\\mu_l/\\mu_s}x^{*}_{sl})}\n",
    "+ \\frac{\\exp(-(x^{*}_{sl})^2)}{\\textrm{erf}(x^{*}_{sl})}\n",
    "- \\frac{\\sqrt{\\pi}x^{*}_{sl}L}\n",
    "{C_l(T_f - T_w)}\n",
    "= 0\n",
    "$$"
   ]
  },
  {
   "cell_type": "markdown",
   "id": "84f504ed-d782-4c73-9a52-9e5b18583668",
   "metadata": {},
   "source": [
    "We code the left-hand side (LHS) of Eqn 6."
   ]
  },
  {
   "cell_type": "code",
   "execution_count": null,
   "id": "694f5213-8f3f-4342-9640-81235001f71e",
   "metadata": {},
   "outputs": [],
   "source": [
    "def solid_liquid(xx_sl):\n",
    "    \"\"\"\n",
    "    Left-hand side (LHS) of Eqn. 6.\n",
    "    \n",
    "    We should find xx_sl such that this function is zero.\n",
    "    \n",
    "    *Warning* Do not evaluate this function close to $x^{*}_{sl} = 0$, since it will diverge there.\n",
    "    \"\"\"\n",
    "    global T_f, T_0, T_w\n",
    "    global k_l, k_s\n",
    "    global µ_s, µ_l\n",
    "    global C_s, C_l\n",
    "    global L\n",
    "    \n",
    "    A1 = (T_f - T_0) / (T_f - T_w)\n",
    "    A2 = k_s/k_l\n",
    "    A3 = sqrt(µ_l/µ_s)\n",
    "    A4 = exp(-(µ_l/µ_s)*xx_sl**2) / erfc(sqrt(µ_l/µ_s)*xx_sl)\n",
    "    A = A1*A2*A3*A4\n",
    "    \n",
    "    B = exp(-xx_sl**2) / erf(xx_sl)\n",
    "    \n",
    "    C = (sqrt(pi)*xx_sl*L) / (C_l * (T_f - T_w))\n",
    "    \n",
    "    return A+B-C"
   ]
  },
  {
   "cell_type": "markdown",
   "id": "92458427-b224-460c-9cf4-728bb94999d7",
   "metadata": {},
   "source": [
    "And we code Eqn. 5"
   ]
  },
  {
   "cell_type": "code",
   "execution_count": null,
   "id": "6f97393a-c068-4be3-a39c-24b153d2b006",
   "metadata": {},
   "outputs": [],
   "source": [
    "def T_profile_MCM2009(x, t, xxsl):\n",
    "    global T_w, T_f\n",
    "    global T_0\n",
    "    global µ_l\n",
    "    global µ_s\n",
    "    xx = x/(2*sqrt(µ_l*t))\n",
    "    T = np.zeros_like(xx)\n",
    "    T[xx<xxsl0] = T_w + (T_f-T_w) * (erf(xx[xx<xxsl])/erf(xxsl))\n",
    "    T[xx>=xxsl0] = T_0 + (T_f-T_0) * (erfc(sqrt(µ_l/µ_s)*xx[xx>=xxsl])/erfc(sqrt(µ_l/µ_s)*xxsl))\n",
    "    return T"
   ]
  },
  {
   "cell_type": "markdown",
   "id": "1f935d55-e56a-45ac-aca4-68e9f0eee028",
   "metadata": {},
   "source": [
    "We give realistic values to the physical parameters. **PLEASE CHECK THESE PARAMETERS!**"
   ]
  },
  {
   "cell_type": "code",
   "execution_count": null,
   "id": "1b2726ca-4b57-4f1f-84d7-f1470b723e37",
   "metadata": {},
   "outputs": [],
   "source": [
    "T_0 = -10. # initial ice temperature °C\n",
    "T_w = 20. # external boundary temperature °C\n",
    "T_f = 0. # melting temperature °C\n",
    "\n",
    "C_s = 2108. # ice heat capacity J/(K.kg)\n",
    "C_l = 4184. # water heat capacity J/(K.kg)\n",
    "\n",
    "µ_s = 1.02e-6  # ice thermal diffusivity\n",
    "µ_l = 0.143e-6 # water thermal diffusivity (m^2/s)\n",
    "\n",
    "k_s = 2.2199 # ice thermal conductivity W/(m.K)\n",
    "k_l = 0.5918 # water thermal conductivity W/(m.K)\n",
    "\n",
    "L = -334000. # latent heat (J / kg)"
   ]
  },
  {
   "cell_type": "markdown",
   "id": "32c3cf97-50ed-4b13-93c6-48214b24b07c",
   "metadata": {},
   "source": [
    "With these physical parameters set, Eqn. 6 of MCM needs to be solved (numerically) for $x^{*}_{sl}$.\n",
    "\n",
    "We have the function, `solid_liquid(xx_sl)`, which evaluates the left-hand side (LHS) of Eqn. 6. Now, we will proceed to find the zero of this LHS function.\n",
    "\n",
    "$x^{*}_{sl}$ is called `xx_sl` in the code."
   ]
  },
  {
   "cell_type": "markdown",
   "id": "22be2d77-307a-4dd9-91ad-ffe0b6210253",
   "metadata": {},
   "source": [
    "With the above parameters, there is indeed an interval over $x^{*}_{sl}$ where the LHS (`solid_liquid(xx_sl)`) is zero, as demonstrated in the following figure."
   ]
  },
  {
   "cell_type": "code",
   "execution_count": null,
   "id": "91cd1a7b-e7f8-40b8-a3e1-187efea85280",
   "metadata": {},
   "outputs": [],
   "source": [
    "xx_sl = np.linspace(0.1,0.6,1000)"
   ]
  },
  {
   "cell_type": "code",
   "execution_count": null,
   "id": "4d4462e3-5619-4fbb-ba57-1df605b893ca",
   "metadata": {},
   "outputs": [],
   "source": [
    "plt.plot(xx_sl, solid_liquid(xx_sl))\n",
    "plt.xlabel('xx_sl')\n",
    "plt.ylabel('solid_liquid(xx_sl)')"
   ]
  },
  {
   "cell_type": "markdown",
   "id": "e7551d8b-6a3e-4992-81e2-bba8f90006d4",
   "metadata": {},
   "source": [
    "The zero of the function can be found numerically using the secant method (which is Newton's method, but using numerical approximation of the value of the derivative instead of analytic derivative).\n",
    "\n",
    "We use our own secant solver (the secant solver in `scipy` contains a bug). It can be found here: https://github.com/mhvwerts/Python-mecatronique/tree/master/TPT_extra"
   ]
  },
  {
   "cell_type": "code",
   "execution_count": null,
   "id": "a980cb39-1070-4dc8-a7ec-3678a1eebbc4",
   "metadata": {},
   "outputs": [],
   "source": [
    "from secant import secant"
   ]
  },
  {
   "cell_type": "markdown",
   "id": "cb6a2b28-cc42-4f15-9562-876dda1e0609",
   "metadata": {},
   "source": [
    "Now we use `secant()` to solve for $x^{*}_{sl}$ (= `xx_sl`)."
   ]
  },
  {
   "cell_type": "code",
   "execution_count": null,
   "id": "e51b6195-2219-473d-a424-60609c6b26a8",
   "metadata": {},
   "outputs": [],
   "source": [
    "xxsl0 = secant()"
   ]
  },
  {
   "cell_type": "code",
   "execution_count": null,
   "id": "256e44ad-0818-471f-a89a-20ef0eebea6f",
   "metadata": {},
   "outputs": [],
   "source": [
    "print(xxsl0)"
   ]
  },
  {
   "cell_type": "markdown",
   "id": "bb825d5e",
   "metadata": {},
   "source": [
    "Here we plot this graphically. The red dot is indeed where LHS is zero."
   ]
  },
  {
   "cell_type": "code",
   "execution_count": null,
   "id": "83de8abe-1d4b-4834-9ea6-df8648b873c2",
   "metadata": {},
   "outputs": [],
   "source": [
    "plt.plot(xx_sl, solid_liquid(xx_sl),'k')\n",
    "plt.plot([xx_sl[0],xx_sl[-1]],[0.,0.])\n",
    "plt.plot([xxsl0],[0.],'ro')\n",
    "plt.xlabel('xx_sl')\n",
    "plt.ylabel('solid_liquid(xx_sl)')"
   ]
  },
  {
   "cell_type": "markdown",
   "id": "3d2791b4-da5f-4689-935a-2d27f68957a4",
   "metadata": {},
   "source": [
    "Now we look to evaluate $T(x, t)$, the evolution of the temperature profile over time."
   ]
  },
  {
   "cell_type": "markdown",
   "id": "a7b8f4f1-e8f8-4944-8c55-28d1ff017e23",
   "metadata": {},
   "source": [
    "Figure 2(a) in MCM2009 gives a temperature profile at 50 hours. Let's try to reproduce that using the expressions given in MCM2009."
   ]
  },
  {
   "cell_type": "code",
   "execution_count": null,
   "id": "e7bc8369-3f16-4f6d-913b-3008d643fe22",
   "metadata": {},
   "outputs": [],
   "source": [
    "x = np.linspace(0,0.5,1000)\n",
    "t = 3600.0 * 50. # 50 hours\n",
    "T = T_profile_MCM2009(x, t, xxsl0)"
   ]
  },
  {
   "cell_type": "code",
   "execution_count": null,
   "id": "1561664c-e7bd-4c87-965f-68050f2fc05b",
   "metadata": {},
   "outputs": [],
   "source": [
    "plt.plot(x,T)\n",
    "plt.xlabel('depth / m')\n",
    "plt.ylabel('temperature / °C')\n",
    "plt.title('reproduction MCM2009 Figure 2(a)')"
   ]
  },
  {
   "cell_type": "markdown",
   "id": "533f4b87-d41c-4898-ad3c-3ca18b2a7941",
   "metadata": {},
   "source": [
    "This reproduces Figure 2(a)!\n",
    "\n",
    "Let's see at other time steps. (and include 50h point)"
   ]
  },
  {
   "cell_type": "code",
   "execution_count": null,
   "id": "d8dba414-4da3-4703-8ef7-76637484f18d",
   "metadata": {},
   "outputs": [],
   "source": [
    "x = np.linspace(0,0.5,1000)\n",
    "T = np.zeros_like(x)\n",
    "for t in [0.1, 1., 10., 100., 1000., 10000., 3600.*50.]:\n",
    "    T = T_profile_MCM2009(x, t, xxsl0)\n",
    "    plt.plot(x,T, label='t={0:.1f}'.format(t))\n",
    "plt.xlabel('depth (m)')\n",
    "plt.ylabel('temperature (°C)')\n",
    "plt.legend()"
   ]
  },
  {
   "cell_type": "code",
   "execution_count": null,
   "id": "63dfd42a",
   "metadata": {},
   "outputs": [],
   "source": [
    "x = 0.05\n",
    "t = np.linspace(????,????,500)\n",
    "T = T_profile_MCM2009(x, t, xxsl0)"
   ]
  },
  {
   "cell_type": "code",
   "execution_count": null,
   "id": "cfc2eda2",
   "metadata": {},
   "outputs": [],
   "source": [
    "plt.plot(t/3600,T)\n",
    "plt.xlabel('time (hr)')\n",
    "plt.ylabel('temperature (°C)')\n",
    "plt.title('reproduction MCM2009 Figure 2(b)')"
   ]
  },
  {
   "cell_type": "code",
   "execution_count": null,
   "id": "4ec89043",
   "metadata": {},
   "outputs": [],
   "source": []
  }
 ],
 "metadata": {
  "kernelspec": {
   "display_name": "Python 3 (ipykernel)",
   "language": "python",
   "name": "python3"
  },
  "language_info": {
   "codemirror_mode": {
    "name": "ipython",
    "version": 3
   },
   "file_extension": ".py",
   "mimetype": "text/x-python",
   "name": "python",
   "nbconvert_exporter": "python",
   "pygments_lexer": "ipython3",
   "version": "3.9.13"
  }
 },
 "nbformat": 4,
 "nbformat_minor": 5
}
