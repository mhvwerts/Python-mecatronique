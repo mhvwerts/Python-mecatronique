{
 "cells": [
  {
   "cell_type": "markdown",
   "id": "5c46503d",
   "metadata": {},
   "source": [
    "# FiPy finite-volume modeling of thermal transfer with phase change à la MCM2009"
   ]
  },
  {
   "cell_type": "code",
   "execution_count": null,
   "id": "1ad08b0c",
   "metadata": {},
   "outputs": [],
   "source": [
    "import numpy as np\n",
    "\n",
    "from numpy import sqrt, pi, exp\n",
    "from scipy.special import erf, erfc\n",
    "\n",
    "from fipy import Grid1D, CellVariable\n",
    "from fipy import TransientTerm, DiffusionTerm\n",
    "\n",
    "import matplotlib.pyplot as plt"
   ]
  },
  {
   "cell_type": "markdown",
   "id": "47265b0a",
   "metadata": {},
   "source": [
    "## Some considerations concerning directly changing the heat content in finite-volume cells"
   ]
  },
  {
   "cell_type": "markdown",
   "id": "05a6ceef",
   "metadata": {},
   "source": [
    "\n",
    "|   |   |  |\n",
    "| -------- | ------------------------ | ---------|\n",
    "| $T$      | temperature of the material | K        |\n",
    "| $T_\\textrm{ext}$ | exterior temperature  | K        |\n",
    "| $k$      | thermal conductivity     | W/(m.K)  |\n",
    "| $\\rho$   | mass density             | kg/m3    |\n",
    "| $c_p$    | specific heat capacity   | J/(kg.K) |\n",
    "| $\\alpha$ | thermal diffusivity      | m2/s     |\n",
    "| $u$      | specific internal energy | J/kg     |\n",
    "| $T_\\textrm{ref}$ | zero-energy temperature  | K        |\n",
    "| $U_i$    | internal energy of finite volume #$i$ | J |\n",
    "| $h_N$    | Newtonian heat transfer coeffcient | W/(m2.K) |\n",
    "| $A$      | heat transfer area / FV cell wall area  | m2      |\n",
    "| $w$      | width of finite volume cell | m    |\n",
    "| $V_\\textrm{cell}$ | volume of finite volume cell | m3  |\n",
    "\n",
    "We have the heat equation\n",
    "\n",
    "$$ \\frac{\\partial T}{\\partial t} = \\frac{k}{\\rho c_p} \\nabla^2 T $$\n",
    "\n",
    "We consider here that the material does not undergo any mechanical (pressure, volume) changes, and that the only mode of energy exchange is by means of heat transfer. Changes in internal energy are then the same as changes in enthalpy. Assuming a constant heat capacity, we arrive at the following expression for the (relative) specific energy (or enthalpy, c'est la même chose ici).\n",
    "\n",
    "$$c_v \\approx c_p$$\n",
    "\n",
    "$$u(T) = c_v(T - T_\\textrm{ref})$$\n",
    "\n",
    "\n",
    "A finite-volume cell has internal energy\n",
    "\n",
    "$$U_i = V_\\textrm{cell} \\rho c_p(T_i - T_\\textrm{ref})$$\n",
    "\n",
    "Changes in internal energy of the cell are directly proportional to changes in temperature\n",
    "\n",
    "$$\\Delta U_i = V_\\textrm{cell} \\rho c_p \\Delta T_i$$\n",
    "\n",
    "or\n",
    "\n",
    "$$\\Delta u_i = \\frac{\\Delta U_i}{\\rho V_\\textrm{cell}} =  c_p \\Delta T_i$$\n",
    "\n",
    "This holds for small temperature changes, ignoring any phase change.\n",
    "\n",
    "With FiPy, we solve the heat equation for temperature, ignoring phase change. \n",
    "\n",
    "From the (projected) *change* in temperature of a FV cell, we calculate the *change* in specific internal energy of the cell.\n",
    "\n",
    "We use this change in internal energy to update the total specific internal energy of the cell.\n",
    "\n",
    "Then we use equations of state to relate the internal energy of the cell to its 'real' temperature etc.\n",
    "\n",
    "We update the temperature, etc. of each cell accordingly."
   ]
  },
  {
   "cell_type": "markdown",
   "id": "d22b49cc",
   "metadata": {},
   "source": [
    "## Equation of state for the water\n",
    "\n",
    "In this system the thermodynamic state of the water is completely determined by its internal energy/enthalpy relative to a reference point. Energy and enthalpy changes are identical, since we do not consider mechanical changes (pressure, volume).\n",
    "\n",
    "We refer to this internal energy as $u$.\n",
    "\n",
    "If we know internal energy $u$, we can determine all other properties as a function of $u$: temperature, thermal diffusivity, heat capacity."
   ]
  },
  {
   "cell_type": "code",
   "execution_count": null,
   "id": "acb087db",
   "metadata": {},
   "outputs": [],
   "source": [
    "T_0 = -10. # initial ice temperature °C\n",
    "T_w = 20. # external boundary temperature °C\n",
    "T_f = 0. # melting temperature °C\n",
    "\n",
    "rho_s = 917.0 # ice density kg/m3\n",
    "rho_l = 1000.0 # water density kg/m3\n",
    "\n",
    "c_s = 2108. # ice heat capacity J/(K.kg)\n",
    "c_l = 4184. # water heat capacity J/(K.kg)\n",
    "\n",
    "k_s = 2.2199 # ice thermal conductivity W/(m.K)\n",
    "k_l = 0.5918 # water thermal conductivity W/(m.K)\n",
    "\n",
    "# rigorously apply mu = k / rho ci\n",
    "mu_s = k_s/(rho_s*c_s)  # ice thermal diffusivity\n",
    "mu_l = k_l/(rho_l*c_l) # water thermal diffusivity (m^2/s)\n",
    "\n",
    "h_fus = +334000. # latent heat (J / kg)"
   ]
  },
  {
   "cell_type": "markdown",
   "id": "6f2d3806",
   "metadata": {},
   "source": [
    "The thermodynamic data should be updated and rigorously applied\n",
    "\n",
    "This is needed if we want to build a reliable calculation using\n",
    "\n",
    "$T(u) = f(u)$\n",
    "\n",
    "converting $\\Delta T$ between time steps in $\\Delta u$ for calculation of $u$ and then calculating the new temperatures from $T = T(u)$\n"
   ]
  },
  {
   "cell_type": "code",
   "execution_count": null,
   "id": "0e517c80",
   "metadata": {},
   "outputs": [],
   "source": [
    "# now for a realistic T vs u function\n",
    "# and apply this to temperature on each time step\n",
    "# attention! vectors only\n",
    "uT0s = 10. * c_s\n",
    "uT0l = 10. * c_s + h_fus\n",
    "def T_from_u(u):\n",
    "    Tu = np.zeros_like(u)\n",
    "    Tu[:] = 0.0\n",
    "    Tu[u<uT0s] = (-10. + u[u<uT0s]/c_s)\n",
    "    Tu[u>uT0l] = (u[u>uT0l]-uT0l)/c_l\n",
    "    return Tu\n",
    "\n",
    "# also adapt mu\n",
    "def mu_from_u(u):\n",
    "    muu = np.zeros_like(u)\n",
    "    muu[:] = mu_s # solid diffusivity\n",
    "    muu[u>uT0l] = mu_l # liquid diffusivity when completely molten\n",
    "    # perhaps use halfway the melting as the switch moment...\n",
    "    # or transition?\n",
    "    return muu\n",
    "\n",
    "def c_from_u(u):\n",
    "    cu = np.zeros_like(u)\n",
    "    cu[:] = c_s # solid heat capacity\n",
    "    cu[u>uT0l] = c_l # liquid heat capacity when completely molten\n",
    "    # transition?\n",
    "    return cu"
   ]
  },
  {
   "cell_type": "code",
   "execution_count": null,
   "id": "46ca9fb7",
   "metadata": {},
   "outputs": [],
   "source": [
    "uu = np.linspace(0,400000,500)\n",
    "plt.subplot(311)\n",
    "plt.plot(uu/1000,T_from_u(uu))\n",
    "plt.ylabel('T (°C)')\n",
    "plt.subplot(312)\n",
    "plt.plot(uu/1000,mu_from_u(uu)/1e-6)\n",
    "plt.ylabel('mu (mm2 / s)')\n",
    "plt.subplot(313)\n",
    "plt.plot(uu/1000,c_from_u(uu)/1000)\n",
    "plt.ylabel('c (kJ / K.kg)')\n",
    "plt.xlabel('specific internal energy $u$ (kJ / kg)')"
   ]
  },
  {
   "cell_type": "markdown",
   "id": "db752b2c",
   "metadata": {},
   "source": [
    "## FiPy finite-volume model"
   ]
  },
  {
   "cell_type": "markdown",
   "id": "d1574161",
   "metadata": {},
   "source": [
    "$$\\alpha = \\frac{k}{\\rho c_p}$$\n",
    "\n",
    "rename this according to MCM2009:\n",
    "\n",
    "$$\\mu_i = \\frac{k_i}{\\rho_i c_i}$$\n",
    "\n",
    "where subscript $i$ is $s$ for solid and $l$ for liquid\n",
    "\n",
    "let's assume $\\rho$ is always 1000 kg per kuub\n",
    "\n",
    "we can make $\\mu$ a CellVariable"
   ]
  },
  {
   "cell_type": "code",
   "execution_count": null,
   "id": "67c073ec",
   "metadata": {},
   "outputs": [],
   "source": [
    "# we use a system similar to MCM 2009, see plots of analytic work below\n",
    "\n",
    "Text = 20.\n",
    "Tinit = -10.\n",
    "\n",
    "L = 1.0 # 1 meter should be enough\n",
    "Nx = 500 # can be more if needed, enough computational power, keep uniform grid for now\n",
    "dx = L/Nx"
   ]
  },
  {
   "cell_type": "code",
   "execution_count": null,
   "id": "b5bab01b",
   "metadata": {},
   "outputs": [],
   "source": [
    "msh = Grid1D(nx=Nx, dx=dx)"
   ]
  },
  {
   "cell_type": "code",
   "execution_count": null,
   "id": "bda8c8f0",
   "metadata": {},
   "outputs": [],
   "source": [
    "x = msh.cellCenters.value[0] # x is depth"
   ]
  },
  {
   "cell_type": "code",
   "execution_count": null,
   "id": "71a3a184",
   "metadata": {},
   "outputs": [],
   "source": [
    "mu = CellVariable(mesh = msh, name = 'µ')"
   ]
  },
  {
   "cell_type": "code",
   "execution_count": null,
   "id": "16a9a7a2",
   "metadata": {},
   "outputs": [],
   "source": [
    "mu[:] = mu_s"
   ]
  },
  {
   "cell_type": "code",
   "execution_count": null,
   "id": "4d5c767c",
   "metadata": {},
   "outputs": [],
   "source": [
    "T = CellVariable(mesh = msh, name = 'T')"
   ]
  },
  {
   "cell_type": "code",
   "execution_count": null,
   "id": "57a329cb",
   "metadata": {},
   "outputs": [],
   "source": [
    "T[:] = Tinit"
   ]
  },
  {
   "cell_type": "code",
   "execution_count": null,
   "id": "67452b85",
   "metadata": {},
   "outputs": [],
   "source": [
    "T.constrain(Text, msh.facesLeft)"
   ]
  },
  {
   "cell_type": "code",
   "execution_count": null,
   "id": "a95ba3ca",
   "metadata": {},
   "outputs": [],
   "source": [
    "T.constrain(Tinit, msh.facesRight)"
   ]
  },
  {
   "cell_type": "code",
   "execution_count": null,
   "id": "390ac8fe",
   "metadata": {},
   "outputs": [],
   "source": [
    "Tview = T.value"
   ]
  },
  {
   "cell_type": "code",
   "execution_count": null,
   "id": "d72176a1",
   "metadata": {},
   "outputs": [],
   "source": [
    "c = np.zeros_like(Tview)"
   ]
  },
  {
   "cell_type": "code",
   "execution_count": null,
   "id": "0e35563b",
   "metadata": {},
   "outputs": [],
   "source": [
    "c[:] = c_s # cell's heat capacity is ice heat capacity"
   ]
  },
  {
   "cell_type": "code",
   "execution_count": null,
   "id": "8087779b",
   "metadata": {},
   "outputs": [],
   "source": [
    "u = np.zeros_like(Tview)"
   ]
  },
  {
   "cell_type": "code",
   "execution_count": null,
   "id": "e7d303ed",
   "metadata": {},
   "outputs": [],
   "source": [
    "u[:] = 0.0 # cell's specific enthalpy"
   ]
  },
  {
   "cell_type": "code",
   "execution_count": null,
   "id": "7f21da59",
   "metadata": {},
   "outputs": [],
   "source": [
    "eq = TransientTerm(var = T) == DiffusionTerm(coeff = mu, var = T)"
   ]
  },
  {
   "cell_type": "code",
   "execution_count": null,
   "id": "ef285f22",
   "metadata": {},
   "outputs": [],
   "source": [
    "# reinitialize\n",
    "T[:] = Tinit\n",
    "c[:] = c_s # cell's heat capacity is ice heat capacity\n",
    "u = np.zeros_like(Tview)\n",
    "u[:] = 0.0 # cell's specific enthalpy"
   ]
  },
  {
   "cell_type": "code",
   "execution_count": null,
   "id": "e7bcccd0",
   "metadata": {},
   "outputs": [],
   "source": [
    "ix5cm = np.argmin(np.abs(x-0.05)) # position nearest 5 cm\n",
    "print(ix5cm, x[ix5cm]) # this is 4.9 cm, next point is 5.1 cm so take average of ix5cm and ix5cm+1 cells"
   ]
  },
  {
   "cell_type": "code",
   "execution_count": null,
   "id": "f05d1f5e",
   "metadata": {},
   "outputs": [],
   "source": [
    "deltat = 5.0 # 1 second?\n",
    "showix = [1, 10, 100, 1000, 2000, 5000]\n",
    "Nt = 5001\n",
    "t = 0\n",
    "t_numwerts = np.zeros(Nt)\n",
    "T5cm_numwerts = np.zeros(Nt)\n",
    "for ix in range(Nt):\n",
    "    # sample 5cm (take average at ix5cm and ix5cm+1)\n",
    "    t_numwerts[ix] = t\n",
    "    T5cm_numwerts[ix] = (Tview[ix5cm] + Tview[ix5cm+1])/2\n",
    "    \n",
    "    if ix in showix:\n",
    "        plt.plot(x, Tview, label='t={0:.1f}'.format(t))\n",
    "        # plt.plot(x, T_from_u(u), 'k:')\n",
    "        if ix == 2000: # this is the 10000 second point\n",
    "            T10000_numwerts = Tview.copy()\n",
    "            x10000_numwerts = x.copy()\n",
    "    Tpre = T.value.copy()\n",
    "    eq.solve(dt = deltat); t+= deltat\n",
    "    Tpost = T.value.copy()\n",
    "    deltaT = Tpost-Tpre\n",
    "    deltau = c * deltaT\n",
    "    u += deltau\n",
    "    T[:] = T_from_u(u)\n",
    "    mu[:] = mu_from_u(u)\n",
    "    c[:] = c_from_u(u)\n",
    "plt.legend()\n",
    "plt.xlabel('depth (m)')\n",
    "plt.ylabel('T (°C)')"
   ]
  },
  {
   "cell_type": "code",
   "execution_count": null,
   "id": "9744d63b",
   "metadata": {},
   "outputs": [],
   "source": [
    "# assert 1==0, \"break\""
   ]
  },
  {
   "cell_type": "markdown",
   "id": "2b7cc144-ec00-41ca-ac76-1a70ec888a84",
   "metadata": {},
   "source": [
    "## Comparison between numerical FiPy solution (werts) and analytic MCM2009 curves"
   ]
  },
  {
   "cell_type": "markdown",
   "id": "45eb1bd0-e91b-41e7-b81d-aa330b43a28d",
   "metadata": {},
   "source": [
    "We copy the code from the Notebook `MCM2009_analytical_solution.ipynb`"
   ]
  },
  {
   "cell_type": "code",
   "execution_count": null,
   "id": "60a65cec",
   "metadata": {},
   "outputs": [],
   "source": [
    "# set/adapt variable names\n",
    "T_0 = -10. # initial ice temperature °C\n",
    "T_w = 20. # external boundary temperature °C\n",
    "T_f = 0. # melting temperature °C\n",
    "\n",
    "C_s = c_s # just rename existing variables for compatibility with next part of Notebook\n",
    "C_l = c_l\n",
    "\n",
    "µ_s = mu_s\n",
    "µ_l = mu_l\n",
    "\n",
    "L = -334000. # latent heat (J / kg)"
   ]
  },
  {
   "cell_type": "code",
   "execution_count": null,
   "id": "694f5213-8f3f-4342-9640-81235001f71e",
   "metadata": {},
   "outputs": [],
   "source": [
    "def solid_liquid(xx_sl):\n",
    "    \"\"\"\n",
    "    Left-hand side (LHS) of Eqn. 6.\n",
    "    \n",
    "    We should find xx_sl such that this function is zero.\n",
    "    \n",
    "    *Warning* Do not evaluate this function close to $x^{*}_{sl} = 0$, since it will diverge there.\n",
    "    \"\"\"\n",
    "    global T_f, T_0, T_w\n",
    "    global k_l, k_s\n",
    "    global µ_s, µ_l\n",
    "    global C_s, C_l\n",
    "    global L\n",
    "    \n",
    "    A1 = (T_f - T_0) / (T_f - T_w)\n",
    "    A2 = k_s/k_l\n",
    "    A3 = sqrt(µ_l/µ_s)\n",
    "    A4 = exp(-(µ_l/µ_s)*xx_sl**2) / erfc(sqrt(µ_l/µ_s)*xx_sl)\n",
    "    A = A1*A2*A3*A4\n",
    "    \n",
    "    B = exp(-xx_sl**2) / erf(xx_sl)\n",
    "    \n",
    "    C = (sqrt(pi)*xx_sl*L) / (C_l * (T_f - T_w))\n",
    "    \n",
    "    return A+B-C"
   ]
  },
  {
   "cell_type": "code",
   "execution_count": null,
   "id": "1a2bcb8f",
   "metadata": {},
   "outputs": [],
   "source": [
    "def T_profile_MCM2009(x, t, xxsl):\n",
    "    global T_w, T_f\n",
    "    global T_0\n",
    "    global µ_l\n",
    "    global µ_s\n",
    "    xx = x/(2*sqrt(µ_l*t))\n",
    "    T = np.zeros_like(xx)\n",
    "    T[xx<xxsl0] = T_w + (T_f-T_w) * (erf(xx[xx<xxsl])/erf(xxsl))\n",
    "    T[xx>=xxsl0] = T_0 + (T_f-T_0) * (erfc(sqrt(µ_l/µ_s)*xx[xx>=xxsl])/erfc(sqrt(µ_l/µ_s)*xxsl))\n",
    "    return T"
   ]
  },
  {
   "cell_type": "code",
   "execution_count": null,
   "id": "a980cb39-1070-4dc8-a7ec-3678a1eebbc4",
   "metadata": {},
   "outputs": [],
   "source": [
    "from secant import secant"
   ]
  },
  {
   "cell_type": "code",
   "execution_count": null,
   "id": "e51b6195-2219-473d-a424-60609c6b26a8",
   "metadata": {},
   "outputs": [],
   "source": [
    "xxsl0 = secant(solid_liquid, 1e-4, 1.0)"
   ]
  },
  {
   "cell_type": "markdown",
   "id": "691b7ebf",
   "metadata": {},
   "source": [
    "Finally, we do a quick comparison between the first FiPy results and the analytic curves from MCM2009.\n",
    "\n",
    "We only sampled:\n",
    "1. The temperature depth profile at t=10000s\n",
    "2. The temperature evolution at 5 cm depth from 0 to 20000s\n",
    "\n",
    "More comparisons should be done. How well do the curves compare? What are the differences? What could be done to improve the agreement? Does it help to find better expressions for the heat capacity and the thermal diffusivity in the 'mushy' zone?"
   ]
  },
  {
   "cell_type": "code",
   "execution_count": null,
   "id": "55472634",
   "metadata": {},
   "outputs": [],
   "source": [
    "plt.plot(x10000_numwerts,T10000_numwerts,'r',label='werts t=10000')\n",
    "\n",
    "x = np.linspace(0,0.5,1000)\n",
    "T = np.zeros_like(x)\n",
    "t = 10000.\n",
    "T = T_profile_MCM2009(x, t, xxsl0)\n",
    "plt.plot(x,T, 'k:', label='MCM analytic t={0:.1f}'.format(t))\n",
    "plt.xlabel('depth (m)')\n",
    "plt.ylabel('temperature (°C)')\n",
    "plt.legend()"
   ]
  },
  {
   "cell_type": "code",
   "execution_count": null,
   "id": "63dfd42a",
   "metadata": {},
   "outputs": [],
   "source": [
    "x = 0.05\n",
    "t = np.linspace(0.001,50*3600.,500)\n",
    "T = T_profile_MCM2009(x, t, xxsl0)"
   ]
  },
  {
   "cell_type": "code",
   "execution_count": null,
   "id": "cfc2eda2",
   "metadata": {},
   "outputs": [],
   "source": [
    "plt.plot(t_numwerts/3600,T5cm_numwerts,'r',label='werts numeric')\n",
    "plt.plot(t/3600,T,'k:',label='MCM2009 analytic')\n",
    "plt.xlabel('time (hr)')\n",
    "plt.ylabel('temperature (°C)')\n",
    "plt.title('reproduction MCM2009 Figure 2(b)')\n",
    "plt.legend()"
   ]
  },
  {
   "cell_type": "code",
   "execution_count": null,
   "id": "170fb584",
   "metadata": {},
   "outputs": [],
   "source": []
  }
 ],
 "metadata": {
  "kernelspec": {
   "display_name": "Python 3 (ipykernel)",
   "language": "python",
   "name": "python3"
  },
  "language_info": {
   "codemirror_mode": {
    "name": "ipython",
    "version": 3
   },
   "file_extension": ".py",
   "mimetype": "text/x-python",
   "name": "python",
   "nbconvert_exporter": "python",
   "pygments_lexer": "ipython3",
   "version": "3.9.13"
  }
 },
 "nbformat": 4,
 "nbformat_minor": 5
}
